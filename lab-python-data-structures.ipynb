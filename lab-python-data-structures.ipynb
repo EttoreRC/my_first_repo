{
 "cells": [
  {
   "cell_type": "markdown",
   "metadata": {
    "tags": []
   },
   "source": [
    "# Lab | Data Structures "
   ]
  },
  {
   "cell_type": "markdown",
   "metadata": {},
   "source": [
    "## Exercise: Managing Customer Orders\n",
    "\n",
    "As part of a business venture, you are starting an online store that sells various products. To ensure smooth operations, you need to develop a program that manages customer orders and inventory.\n",
    "\n",
    "Follow the steps below to complete the exercise:\n",
    "\n",
    "1. Define a list called `products` that contains the following items: \"t-shirt\", \"mug\", \"hat\", \"book\", \"keychain\".\n",
    "\n",
    "2. Create an empty dictionary called `inventory`.\n",
    "\n",
    "3. Ask the user to input the quantity of each product available in the inventory. Use the product names from the `products` list as keys in the `inventory` dictionary and assign the respective quantities as values.\n",
    "\n",
    "4. Create an empty set called `customer_orders`.\n",
    "\n",
    "5. Ask the user to input the name of three products that a customer wants to order (from those in the products list, meaning three products out of \"t-shirt\", \"mug\", \"hat\", \"book\" or \"keychain\". Add each product name to the `customer_orders` set.\n",
    "\n",
    "6. Print the products in the `customer_orders` set.\n",
    "\n",
    "7. Calculate the following order statistics:\n",
    "   - Total Products Ordered: The total number of products in the `customer_orders` set.\n",
    "   - Percentage of Products Ordered: The percentage of products ordered compared to the total available products.\n",
    "   \n",
    "   Store these statistics in a tuple called `order_status`.\n",
    "\n",
    "8. Print the order statistics using the following format:\n",
    "   ```\n",
    "   Order Statistics:\n",
    "   Total Products Ordered: <total_products_ordered>\n",
    "   Percentage of Products Ordered: <percentage_ordered>% \n",
    "   ```\n",
    "\n",
    "9. Update the inventory by subtracting 1 from the quantity of each product. Modify the `inventory` dictionary accordingly.\n",
    "\n",
    "10. Print the updated inventory, displaying the quantity of each product on separate lines.\n",
    "\n",
    "Solve the exercise by implementing the steps using the Python concepts of lists, dictionaries, sets, and basic input/output operations. "
   ]
  },
  {
   "cell_type": "code",
<<<<<<< HEAD
   "execution_count": 12,
=======
   "execution_count": 38,
>>>>>>> 216f36c3a0eec7c32b69d523bbe3712ecb4e34e3
   "metadata": {},
   "outputs": [],
   "source": [
    "#1 \n",
    "products = [\"t-shirt\", \"mug\", \"hat\", \"book\", \"keychain\"]"
   ]
  },
  {
   "cell_type": "code",
<<<<<<< HEAD
   "execution_count": 13,
=======
   "execution_count": 39,
>>>>>>> 216f36c3a0eec7c32b69d523bbe3712ecb4e34e3
   "metadata": {},
   "outputs": [],
   "source": [
    "#2\n",
    "inventory = {}"
   ]
  },
  {
   "cell_type": "code",
<<<<<<< HEAD
   "execution_count": 14,
=======
   "execution_count": 40,
>>>>>>> 216f36c3a0eec7c32b69d523bbe3712ecb4e34e3
   "metadata": {},
   "outputs": [
    {
     "name": "stdout",
     "output_type": "stream",
     "text": [
<<<<<<< HEAD
      "Enter the quantity of t-shirts available in the inventory: 11\n",
      "Enter the quantity of mugs available in the inventory: 22\n",
      "Enter the quantity of hats available in the inventory: 33\n",
      "Enter the quantity of books available in the inventory: 44\n",
      "Enter the quantity of keychains available in the inventory: 55\n"
=======
      "Enter the quantity of t-shirts available in the inventory: 1\n",
      "Enter the quantity of mugs available in the inventory: 2\n",
      "Enter the quantity of hats available in the inventory: 3\n",
      "Enter the quantity of books available in the inventory: 4\n",
      "Enter the quantity of keychains available in the inventory: 5\n"
>>>>>>> 216f36c3a0eec7c32b69d523bbe3712ecb4e34e3
     ]
    }
   ],
   "source": [
    "#3\n",
    "inventory[\"t-shirt\"] = int(input(\"Enter the quantity of t-shirts available in the inventory: \"))\n",
    "inventory[\"mug\"] = int(input(\"Enter the quantity of mugs available in the inventory: \"))\n",
    "inventory[\"hat\"] = int(input(\"Enter the quantity of hats available in the inventory: \"))\n",
    "inventory[\"book\"] = int(input(\"Enter the quantity of books available in the inventory: \"))\n",
    "inventory[\"keychain\"] = int(input(\"Enter the quantity of keychains available in the inventory: \"))\n"
   ]
  },
  {
   "cell_type": "code",
<<<<<<< HEAD
   "execution_count": 15,
=======
   "execution_count": 41,
>>>>>>> 216f36c3a0eec7c32b69d523bbe3712ecb4e34e3
   "metadata": {},
   "outputs": [
    {
     "name": "stdout",
     "output_type": "stream",
     "text": [
<<<<<<< HEAD
      "{'t-shirt': 11, 'mug': 22, 'hat': 33, 'book': 44, 'keychain': 55}\n"
=======
      "{'t-shirt': 1, 'mug': 2, 'hat': 3, 'book': 4, 'keychain': 5}\n"
>>>>>>> 216f36c3a0eec7c32b69d523bbe3712ecb4e34e3
     ]
    }
   ],
   "source": [
    "print(inventory)"
   ]
  },
  {
   "cell_type": "code",
<<<<<<< HEAD
   "execution_count": 16,
=======
   "execution_count": 42,
>>>>>>> 216f36c3a0eec7c32b69d523bbe3712ecb4e34e3
   "metadata": {},
   "outputs": [],
   "source": [
    "#4 Create an empty set called customer_orders.\n",
    "customer_orders = set()"
   ]
  },
  {
   "cell_type": "code",
<<<<<<< HEAD
   "execution_count": 17,
=======
   "execution_count": 47,
>>>>>>> 216f36c3a0eec7c32b69d523bbe3712ecb4e34e3
   "metadata": {},
   "outputs": [
    {
     "name": "stdout",
     "output_type": "stream",
     "text": [
<<<<<<< HEAD
      "Please chose t-shirt mug hat book keychain  hat\n"
=======
      "Enter the name of the first product (choose from t-shirt, mug, hat, book, keychain): mug\n",
      "Enter the name of the second product (choose from t-shirt, mug, hat, book, keychain): hat\n",
      "Enter the name of the third product (choose from t-shirt, mug, hat, book, keychain): book\n",
      "\n",
      "Customer Orders:\n",
      "Mug\n",
      "Hat\n",
      "Book\n"
>>>>>>> 216f36c3a0eec7c32b69d523bbe3712ecb4e34e3
     ]
    }
   ],
   "source": [
<<<<<<< HEAD
    "order1 = input(\"Please chose t-shirt mug hat book keychain  \")"
=======
    "#5\n",
    "#Ask the user to input the name of three products that a customer wants to order (from those in the products list, meaning three products out of \"t-shirt\", \"mug\", \"hat\", \"book\" or \"keychain\". Add each product name to the customer_orders set.\n",
    "# Input the first product name\n",
    "product_name = input(f\"Enter the name of the first product (choose from {', '.join(products)}): \")\n",
    "customer_orders.add(product_name if product_name in products else '')\n",
    "\n",
    "# Input the second product name\n",
    "product_name = input(f\"Enter the name of the second product (choose from {', '.join(products)}): \")\n",
    "customer_orders.add(product_name if product_name in products else '')\n",
    "\n",
    "# Input the third product name\n",
    "product_name = input(f\"Enter the name of the third product (choose from {', '.join(products)}): \")\n",
    "customer_orders.add(product_name if product_name in products else '')\n",
    "\n",
    "# Remove any empty strings from the set\n",
    "customer_orders.discard('')\n",
    "\n",
    "# Display the customer orders set\n",
    "print(\"\\nCustomer Orders:\")\n",
    "for order in customer_orders:\n",
    "    print(order.capitalize())"
>>>>>>> 216f36c3a0eec7c32b69d523bbe3712ecb4e34e3
   ]
  },
  {
   "cell_type": "code",
<<<<<<< HEAD
   "execution_count": 18,
=======
   "execution_count": 48,
>>>>>>> 216f36c3a0eec7c32b69d523bbe3712ecb4e34e3
   "metadata": {},
   "outputs": [
    {
     "name": "stdout",
     "output_type": "stream",
     "text": [
<<<<<<< HEAD
      "Please chose t-shirt mug hat book keychain  book\n"
     ]
    }
   ],
   "source": [
    "order2 = input(\"Please chose t-shirt mug hat book keychain  \")"
   ]
  },
  {
   "cell_type": "code",
   "execution_count": 19,
   "metadata": {},
   "outputs": [
    {
     "name": "stdout",
     "output_type": "stream",
     "text": [
      "Please chose t-shirt mug hat book keychain  mug\n"
     ]
    }
   ],
   "source": [
    "order3 = input(\"Please chose t-shirt mug hat book keychain  \")"
   ]
  },
  {
   "cell_type": "code",
   "execution_count": 20,
   "metadata": {},
   "outputs": [],
   "source": [
    "customer_orders.add(order1)"
   ]
  },
  {
   "cell_type": "code",
   "execution_count": 21,
   "metadata": {},
   "outputs": [],
   "source": [
    "customer_orders.add(order2)"
   ]
  },
  {
   "cell_type": "code",
   "execution_count": 22,
   "metadata": {},
   "outputs": [],
   "source": [
    "customer_orders.add(order3)"
   ]
  },
  {
   "cell_type": "code",
   "execution_count": 23,
   "metadata": {},
   "outputs": [
    {
     "name": "stdout",
     "output_type": "stream",
     "text": [
      "{'book', 'mug', 'hat'}\n"
=======
      "{'mug', 'hat', 'book'}\n"
>>>>>>> 216f36c3a0eec7c32b69d523bbe3712ecb4e34e3
     ]
    }
   ],
   "source": [
<<<<<<< HEAD
=======
    "#6\n",
>>>>>>> 216f36c3a0eec7c32b69d523bbe3712ecb4e34e3
    "print(customer_orders)"
   ]
  },
  {
   "cell_type": "code",
<<<<<<< HEAD
   "execution_count": 24,
   "metadata": {},
   "outputs": [
    {
     "name": "stdout",
     "output_type": "stream",
     "text": [
      "Order statistics:\n",
      "Total Products Ordered: 3\n",
      "Percentage of Products Ordered: 60.00%\n"
=======
   "execution_count": 51,
   "metadata": {},
   "outputs": [
    {
     "ename": "TypeError",
     "evalue": "int() argument must be a string, a bytes-like object or a number, not 'set'",
     "output_type": "error",
     "traceback": [
      "\u001b[1;31m---------------------------------------------------------------------------\u001b[0m",
      "\u001b[1;31mTypeError\u001b[0m                                 Traceback (most recent call last)",
      "\u001b[1;32m<ipython-input-51-30fecc1a6059>\u001b[0m in \u001b[0;36m<module>\u001b[1;34m\u001b[0m\n\u001b[0;32m      1\u001b[0m \u001b[1;31m#7\u001b[0m\u001b[1;33m\u001b[0m\u001b[1;33m\u001b[0m\u001b[1;33m\u001b[0m\u001b[0m\n\u001b[1;32m----> 2\u001b[1;33m \u001b[0mtotal_products_ordered\u001b[0m \u001b[1;33m=\u001b[0m \u001b[0mlen\u001b[0m\u001b[1;33m(\u001b[0m\u001b[0mint\u001b[0m\u001b[1;33m(\u001b[0m\u001b[0mcustomer_orders\u001b[0m\u001b[1;33m)\u001b[0m\u001b[1;33m)\u001b[0m\u001b[1;33m\u001b[0m\u001b[1;33m\u001b[0m\u001b[0m\n\u001b[0m",
      "\u001b[1;31mTypeError\u001b[0m: int() argument must be a string, a bytes-like object or a number, not 'set'"
>>>>>>> 216f36c3a0eec7c32b69d523bbe3712ecb4e34e3
     ]
    }
   ],
   "source": [
<<<<<<< HEAD
    "# Calculate order statistics\n",
    "total_products_ordered = len(customer_orders)\n",
    "percentage_ordered = (total_products_ordered / len(inventory)) * 100\n",
    "\n",
    "# Create una tupla called order_status\n",
    "order_status = (total_products_ordered, percentage_ordered)\n",
    "\n",
    "# print statistics\n",
    "print(\"Order statistics:\")\n",
    "print(\"Total Products Ordered:\", order_status[0])\n",
    "print(\"Percentage of Products Ordered: {:.2f}%\".format(order_status[1]))"
=======
    "#7\n",
    "total_products_ordered = len(customer_orders)\n"
>>>>>>> 216f36c3a0eec7c32b69d523bbe3712ecb4e34e3
   ]
  },
  {
   "cell_type": "code",
<<<<<<< HEAD
   "execution_count": 25,
   "metadata": {},
   "outputs": [],
   "source": [
    "for products in inventory:\n",
    "    inventory[products] -= 1"
=======
   "execution_count": 50,
   "metadata": {},
   "outputs": [],
   "source": [
    "total_available_products = len(products)\n",
    "percentage_of_products_ordered = (total_products_ordered / total_available_products) * 100\n"
>>>>>>> 216f36c3a0eec7c32b69d523bbe3712ecb4e34e3
   ]
  },
  {
   "cell_type": "code",
<<<<<<< HEAD
   "execution_count": 26,
   "metadata": {},
   "outputs": [
    {
     "name": "stdout",
     "output_type": "stream",
     "text": [
      "{'t-shirt': 10, 'mug': 21, 'hat': 32, 'book': 43, 'keychain': 54}\n"
     ]
    }
   ],
   "source": [
    "print(inventory)"
   ]
=======
   "execution_count": null,
   "metadata": {},
   "outputs": [],
   "source": []
  },
  {
   "cell_type": "code",
   "execution_count": null,
   "metadata": {},
   "outputs": [],
   "source": []
  },
  {
   "cell_type": "code",
   "execution_count": null,
   "metadata": {},
   "outputs": [],
   "source": []
>>>>>>> 216f36c3a0eec7c32b69d523bbe3712ecb4e34e3
  },
  {
   "cell_type": "code",
   "execution_count": null,
   "metadata": {},
   "outputs": [],
   "source": []
  }
 ],
 "metadata": {
  "kernelspec": {
   "display_name": "Python 3",
   "language": "python",
   "name": "python3"
  },
  "language_info": {
   "codemirror_mode": {
    "name": "ipython",
    "version": 3
   },
   "file_extension": ".py",
   "mimetype": "text/x-python",
   "name": "python",
   "nbconvert_exporter": "python",
   "pygments_lexer": "ipython3",
   "version": "3.8.5"
  }
 },
 "nbformat": 4,
 "nbformat_minor": 4
}
