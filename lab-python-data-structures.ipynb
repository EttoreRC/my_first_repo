{
 "cells": [
  {
   "cell_type": "markdown",
   "metadata": {
    "tags": []
   },
   "source": [
    "# Lab | Data Structures "
   ]
  },
  {
   "cell_type": "markdown",
   "metadata": {},
   "source": [
    "## Exercise: Managing Customer Orders\n",
    "\n",
    "As part of a business venture, you are starting an online store that sells various products. To ensure smooth operations, you need to develop a program that manages customer orders and inventory.\n",
    "\n",
    "Follow the steps below to complete the exercise:\n",
    "\n",
    "1. Define a list called `products` that contains the following items: \"t-shirt\", \"mug\", \"hat\", \"book\", \"keychain\".\n",
    "\n",
    "2. Create an empty dictionary called `inventory`.\n",
    "\n",
    "3. Ask the user to input the quantity of each product available in the inventory. Use the product names from the `products` list as keys in the `inventory` dictionary and assign the respective quantities as values.\n",
    "\n",
    "4. Create an empty set called `customer_orders`.\n",
    "\n",
    "5. Ask the user to input the name of three products that a customer wants to order (from those in the products list, meaning three products out of \"t-shirt\", \"mug\", \"hat\", \"book\" or \"keychain\". Add each product name to the `customer_orders` set.\n",
    "\n",
    "6. Print the products in the `customer_orders` set.\n",
    "\n",
    "7. Calculate the following order statistics:\n",
    "   - Total Products Ordered: The total number of products in the `customer_orders` set.\n",
    "   - Percentage of Products Ordered: The percentage of products ordered compared to the total available products.\n",
    "   \n",
    "   Store these statistics in a tuple called `order_status`.\n",
    "\n",
    "8. Print the order statistics using the following format:\n",
    "   ```\n",
    "   Order Statistics:\n",
    "   Total Products Ordered: <total_products_ordered>\n",
    "   Percentage of Products Ordered: <percentage_ordered>% \n",
    "   ```\n",
    "\n",
    "9. Update the inventory by subtracting 1 from the quantity of each product. Modify the `inventory` dictionary accordingly.\n",
    "\n",
    "10. Print the updated inventory, displaying the quantity of each product on separate lines.\n",
    "\n",
    "Solve the exercise by implementing the steps using the Python concepts of lists, dictionaries, sets, and basic input/output operations. "
   ]
  },
  {
   "cell_type": "code",
   "execution_count": 12,
   "metadata": {},
   "outputs": [],
   "source": [
    "#1 \n",
    "products = [\"t-shirt\", \"mug\", \"hat\", \"book\", \"keychain\"]"
   ]
  },
  {
   "cell_type": "code",
   "execution_count": 13,
   "metadata": {},
   "outputs": [],
   "source": [
    "#2\n",
    "inventory = {}"
   ]
  },
  {
   "cell_type": "code",
   "execution_count": 14,
   "metadata": {},
   "outputs": [
    {
     "name": "stdout",
     "output_type": "stream",
     "text": [
      "Enter the quantity of t-shirts available in the inventory: 11\n",
      "Enter the quantity of mugs available in the inventory: 22\n",
      "Enter the quantity of hats available in the inventory: 33\n",
      "Enter the quantity of books available in the inventory: 44\n",
      "Enter the quantity of keychains available in the inventory: 55\n"
     ]
    }
   ],
   "source": [
    "#3\n",
    "inventory[\"t-shirt\"] = int(input(\"Enter the quantity of t-shirts available in the inventory: \"))\n",
    "inventory[\"mug\"] = int(input(\"Enter the quantity of mugs available in the inventory: \"))\n",
    "inventory[\"hat\"] = int(input(\"Enter the quantity of hats available in the inventory: \"))\n",
    "inventory[\"book\"] = int(input(\"Enter the quantity of books available in the inventory: \"))\n",
    "inventory[\"keychain\"] = int(input(\"Enter the quantity of keychains available in the inventory: \"))\n"
   ]
  },
  {
   "cell_type": "code",
   "execution_count": 15,
   "metadata": {},
   "outputs": [
    {
     "name": "stdout",
     "output_type": "stream",
     "text": [
      "{'t-shirt': 11, 'mug': 22, 'hat': 33, 'book': 44, 'keychain': 55}\n"
     ]
    }
   ],
   "source": [
    "print(inventory)"
   ]
  },
  {
   "cell_type": "code",
   "execution_count": 16,
   "metadata": {},
   "outputs": [],
   "source": [
    "#4 Create an empty set called customer_orders.\n",
    "customer_orders = set()"
   ]
  },
  {
   "cell_type": "code",
   "execution_count": 17,
   "metadata": {},
   "outputs": [
    {
     "name": "stdout",
     "output_type": "stream",
     "text": [
      "Please chose t-shirt mug hat book keychain  hat\n"
     ]
    }
   ],
   "source": [
    "order1 = input(\"Please chose t-shirt mug hat book keychain  \")"
   ]
  },
  {
   "cell_type": "code",
   "execution_count": 18,
   "metadata": {},
   "outputs": [
    {
     "name": "stdout",
     "output_type": "stream",
     "text": [
      "Please chose t-shirt mug hat book keychain  book\n"
     ]
    }
   ],
   "source": [
    "order2 = input(\"Please chose t-shirt mug hat book keychain  \")"
   ]
  },
  {
   "cell_type": "code",
   "execution_count": 19,
   "metadata": {},
   "outputs": [
    {
     "name": "stdout",
     "output_type": "stream",
     "text": [
      "Please chose t-shirt mug hat book keychain  mug\n"
     ]
    }
   ],
   "source": [
    "order3 = input(\"Please chose t-shirt mug hat book keychain  \")"
   ]
  },
  {
   "cell_type": "code",
   "execution_count": 20,
   "metadata": {},
   "outputs": [],
   "source": [
    "customer_orders.add(order1)"
   ]
  },
  {
   "cell_type": "code",
   "execution_count": 21,
   "metadata": {},
   "outputs": [],
   "source": [
    "customer_orders.add(order2)"
   ]
  },
  {
   "cell_type": "code",
   "execution_count": 22,
   "metadata": {},
   "outputs": [],
   "source": [
    "customer_orders.add(order3)"
   ]
  },
  {
   "cell_type": "code",
   "execution_count": 23,
   "metadata": {},
   "outputs": [
    {
     "name": "stdout",
     "output_type": "stream",
     "text": [
      "{'book', 'mug', 'hat'}\n"
     ]
    }
   ],
   "source": [
    "print(customer_orders)"
   ]
  },
  {
   "cell_type": "code",
   "execution_count": 24,
   "metadata": {},
   "outputs": [
    {
     "name": "stdout",
     "output_type": "stream",
     "text": [
      "Order statistics:\n",
      "Total Products Ordered: 3\n",
      "Percentage of Products Ordered: 60.00%\n"
     ]
    }
   ],
   "source": [
    "# Calculate order statistics\n",
    "total_products_ordered = len(customer_orders)\n",
    "percentage_ordered = (total_products_ordered / len(inventory)) * 100\n",
    "\n",
    "# Create una tupla called order_status\n",
    "order_status = (total_products_ordered, percentage_ordered)\n",
    "\n",
    "# print statistics\n",
    "print(\"Order statistics:\")\n",
    "print(\"Total Products Ordered:\", order_status[0])\n",
    "print(\"Percentage of Products Ordered: {:.2f}%\".format(order_status[1]))"
   ]
  },
  {
   "cell_type": "code",
   "execution_count": 25,
   "metadata": {},
   "outputs": [],
   "source": [
    "for products in inventory:\n",
    "    inventory[products] -= 1"
   ]
  },
  {
   "cell_type": "code",
   "execution_count": 26,
   "metadata": {},
   "outputs": [
    {
     "name": "stdout",
     "output_type": "stream",
     "text": [
      "{'t-shirt': 10, 'mug': 21, 'hat': 32, 'book': 43, 'keychain': 54}\n"
     ]
    }
   ],
   "source": [
    "print(inventory)"
   ]
  },
  {
   "cell_type": "code",
   "execution_count": null,
   "metadata": {},
   "outputs": [],
   "source": []
  }
 ],
 "metadata": {
  "kernelspec": {
   "display_name": "Python 3",
   "language": "python",
   "name": "python3"
  },
  "language_info": {
   "codemirror_mode": {
    "name": "ipython",
    "version": 3
   },
   "file_extension": ".py",
   "mimetype": "text/x-python",
   "name": "python",
   "nbconvert_exporter": "python",
   "pygments_lexer": "ipython3",
   "version": "3.8.5"
  }
 },
 "nbformat": 4,
 "nbformat_minor": 4
}
